{
 "cells": [
  {
   "cell_type": "markdown",
   "id": "a8220539",
   "metadata": {},
   "source": [
    " The command pip install requests and pip install pycoingecko are used to install Python packages.\n"
   ]
  },
  {
   "cell_type": "code",
   "execution_count": 55,
   "id": "bd104a50",
   "metadata": {},
   "outputs": [
    {
     "name": "stdout",
     "output_type": "stream",
     "text": [
      "Requirement already satisfied: requests in c:\\users\\abhishek sonar\\anaconda3\\lib\\site-packages (2.28.1)\n",
      "Requirement already satisfied: charset-normalizer<3,>=2 in c:\\users\\abhishek sonar\\anaconda3\\lib\\site-packages (from requests) (2.0.4)\n",
      "Requirement already satisfied: urllib3<1.27,>=1.21.1 in c:\\users\\abhishek sonar\\anaconda3\\lib\\site-packages (from requests) (1.26.14)\n",
      "Requirement already satisfied: idna<4,>=2.5 in c:\\users\\abhishek sonar\\anaconda3\\lib\\site-packages (from requests) (3.4)\n",
      "Requirement already satisfied: certifi>=2017.4.17 in c:\\users\\abhishek sonar\\anaconda3\\lib\\site-packages (from requests) (2022.12.7)\n",
      "Note: you may need to restart the kernel to use updated packages.\n"
     ]
    }
   ],
   "source": [
    "pip install requests"
   ]
  },
  {
   "cell_type": "code",
   "execution_count": 56,
   "id": "02215ff5",
   "metadata": {},
   "outputs": [
    {
     "name": "stdout",
     "output_type": "stream",
     "text": [
      "Requirement already satisfied: pycoingecko in c:\\users\\abhishek sonar\\anaconda3\\lib\\site-packages (3.1.0)\n",
      "Requirement already satisfied: requests in c:\\users\\abhishek sonar\\anaconda3\\lib\\site-packages (from pycoingecko) (2.28.1)\n",
      "Requirement already satisfied: idna<4,>=2.5 in c:\\users\\abhishek sonar\\anaconda3\\lib\\site-packages (from requests->pycoingecko) (3.4)\n",
      "Requirement already satisfied: urllib3<1.27,>=1.21.1 in c:\\users\\abhishek sonar\\anaconda3\\lib\\site-packages (from requests->pycoingecko) (1.26.14)\n",
      "Requirement already satisfied: charset-normalizer<3,>=2 in c:\\users\\abhishek sonar\\anaconda3\\lib\\site-packages (from requests->pycoingecko) (2.0.4)\n",
      "Requirement already satisfied: certifi>=2017.4.17 in c:\\users\\abhishek sonar\\anaconda3\\lib\\site-packages (from requests->pycoingecko) (2022.12.7)\n",
      "Note: you may need to restart the kernel to use updated packages.\n"
     ]
    }
   ],
   "source": [
    "pip install pycoingecko"
   ]
  },
  {
   "cell_type": "markdown",
   "id": "2c78b169",
   "metadata": {},
   "source": [
    "\n",
    "The code imports necessary Python modules:\n",
    "\n",
    "pandas as pd: For data manipulation and analysis.\n",
    "datetime as dt: For handling dates and times.\n",
    "plotly.graph_objects as go and from plotly.offline import plot: For interactive data visualization, while from pycoingecko import CoinGeckoAPI imports CoinGeckoAPI for accessing cryptocurrency data"
   ]
  },
  {
   "cell_type": "code",
   "execution_count": 57,
   "id": "ec7b3076",
   "metadata": {},
   "outputs": [],
   "source": [
    "#import modules\n",
    "import pandas as pd\n",
    "import datetime as dt\n",
    "import time as t\n",
    "import plotly.graph_objects as go\n",
    "from plotly.offline import plot\n",
    "from pycoingecko import CoinGeckoAPI"
   ]
  },
  {
   "cell_type": "code",
   "execution_count": 58,
   "id": "14a2848c",
   "metadata": {},
   "outputs": [
    {
     "data": {
      "text/plain": [
       "{'gecko_says': '(V3) To the Moon!'}"
      ]
     },
     "execution_count": 58,
     "metadata": {},
     "output_type": "execute_result"
    }
   ],
   "source": [
    "#create a client\n",
    "cg = CoinGeckoAPI()\n",
    "\n",
    "#confirm connection\n",
    "cg.ping()"
   ]
  },
  {
   "cell_type": "code",
   "execution_count": 59,
   "id": "c59bb5d9",
   "metadata": {},
   "outputs": [],
   "source": [
    "#get a list of coins, sort df by id\n",
    "coinList = cg.get_coins_list()\n",
    "coinDataFrame = pd.DataFrame.from_dict(coinList).sort_values('id'\n",
    "                                      ).reset_index(drop=True)\n",
    "\n"
   ]
  },
  {
   "cell_type": "code",
   "execution_count": 60,
   "id": "a022b1a1",
   "metadata": {},
   "outputs": [
    {
     "name": "stdout",
     "output_type": "stream",
     "text": [
      "{'bitcoin': {'usd': 62411}, 'dopex': {'usd': 54.73}, 'ethereum': {'usd': 3431.92}}\n"
     ]
    }
   ],
   "source": [
    "#btc/eth/dpx by id\n",
    "#coinDataFrame[coinDataFrame['id'] == 'bitcoin']\n",
    "#coinDataFrame[coinDataFrame['id'] == 'ethereum']\n",
    "#coinDataFrame[coinDataFrame['id'] == 'dopex']\n",
    "coins = ['bitcoin','ethereum','dopex']\n",
    "\n",
    "#get list of suppored VS currencies\n",
    "counterCurrencies = cg.get_supported_vs_currencies()\n",
    "vsCurrencies = ['usd', 'eur', 'link']\n",
    "\n",
    "#most simple price request - nested dictionary format\n",
    "simplePriceRequest = cg.get_price(ids = coins, vs_currencies = 'usd')\n",
    "print(simplePriceRequest)"
   ]
  },
  {
   "cell_type": "markdown",
   "id": "b450cfb6",
   "metadata": {},
   "source": [
    "The script retrieves OHLC (Open, High, Low, Close) data for Bitcoin (BTC) from the CoinGecko API for a specified duration of 14 days.\n",
    "It organizes the data into a pandas DataFrame, converting the timestamp to a human-readable date format and setting it as the index.\n",
    "Finally, it prints the DataFrame, displaying the OHLC data in tabular format with the date as the index, suitable for analysis and visualization."
   ]
  },
  {
   "cell_type": "code",
   "execution_count": 61,
   "id": "995282d1",
   "metadata": {},
   "outputs": [
    {
     "name": "stdout",
     "output_type": "stream",
     "text": [
      "                        Open     High      Low    Close\n",
      "Date                                                   \n",
      "02-16-2024 14:00:00  51981.0  51981.0  51981.0  51981.0\n",
      "02-16-2024 18:00:00  51755.0  52019.0  51755.0  52002.0\n",
      "02-16-2024 22:00:00  52166.0  52166.0  51983.0  51983.0\n",
      "02-17-2024 02:00:00  51988.0  52031.0  51930.0  51961.0\n",
      "02-17-2024 06:00:00  51953.0  51953.0  51702.0  51702.0\n",
      "...                      ...      ...      ...      ...\n",
      "02-29-2024 22:00:00  61201.0  61509.0  60925.0  60925.0\n",
      "03-01-2024 02:00:00  61162.0  61543.0  61162.0  61543.0\n",
      "03-01-2024 06:00:00  61479.0  62197.0  61479.0  62059.0\n",
      "03-01-2024 10:00:00  61907.0  62459.0  61907.0  61941.0\n",
      "03-01-2024 14:00:00  61270.0  61907.0  61270.0  61907.0\n",
      "\n",
      "[85 rows x 4 columns]\n"
     ]
    }
   ],
   "source": [
    "#get OHLC data for preset range 1/7/14/30/90/180/365/max\n",
    "#candle body width by date range \n",
    "#1 - 2 days: 30 minutes\n",
    "#3 - 30 days: 4 hours\n",
    "#31 days and beyond: 4 days\n",
    "ohlcData = cg.get_coin_ohlc_by_id(id = 'bitcoin', \n",
    "                                  vs_currency = 'usd', \n",
    "                                  days = '14')\n",
    "#list to dataframe\n",
    "ohlcDataFrame = pd.DataFrame(data = ohlcData,\n",
    "                           columns = ['Date', 'Open', 'High' ,'Low', 'Close'])\n",
    "#reformat date\n",
    "ohlcDataFrame['Date'] = ohlcDataFrame['Date'].apply(\n",
    "                        lambda x: dt.datetime.fromtimestamp(x/1000\n",
    "                        ).strftime('%m-%d-%Y %H:%M:%S'))\n",
    "#set index\n",
    "ohlcDataFrame = ohlcDataFrame.set_index('Date')\n",
    "print (ohlcDataFrame)\n",
    "\n"
   ]
  },
  {
   "cell_type": "markdown",
   "id": "959e6792",
   "metadata": {},
   "source": [
    "This script continuously fetches OHLC (Open, High, Low, Close) data for Bitcoin (BTC) from the CoinGecko API.\n",
    "It converts the fetched data into a pandas DataFrame, organizing it into columns such as timestamp, open, high, low, and close.\n",
    "The script prints the DataFrame, providing real-time updates on Bitcoin's OHLC data every second."
   ]
  },
  {
   "cell_type": "code",
   "execution_count": null,
   "id": "294a53c4",
   "metadata": {},
   "outputs": [],
   "source": [
    "import requests\n",
    "import pandas as pd\n",
    "import time\n",
    "\n",
    "def fetch_ohlc_data(coin_id, vs_currency='usd', days=1):\n",
    "    url = f\"https://api.coingecko.com/api/v3/coins/{coin_id}/ohlc?vs_currency={vs_currency}&days={days}\"\n",
    "    try:\n",
    "        response = requests.get(url)\n",
    "        response.raise_for_status()\n",
    "        data = response.json()\n",
    "        return data\n",
    "    except requests.exceptions.HTTPError as err:\n",
    "        print(f\"HTTP error occurred: {err}\")\n",
    "        return None\n",
    "\n",
    "if __name__ == \"__main__\":\n",
    "    while True:\n",
    "        # Fetch OHLC data for Bitcoin (BTC) for the last 1 day\n",
    "        ohlc_data = fetch_ohlc_data('bitcoin')\n",
    "\n",
    "        if ohlc_data:\n",
    "            print(\"OHLC Data:\")\n",
    "            # Convert OHLC data to a DataFrame\n",
    "            df = pd.DataFrame(ohlc_data, columns=['timestamp', 'open', 'high', 'low', 'close'])\n",
    "            print(df)\n",
    "        else:\n",
    "            print(\"Failed to fetch OHLC data.\")\n",
    "\n",
    "        # Wait for 1 second before making the next request\n",
    "        time.sleep(1)\n"
   ]
  },
  {
   "cell_type": "markdown",
   "id": "524d85e4",
   "metadata": {},
   "source": [
    "This script fetches OHLC (Open, High, Low, Close) data for Bitcoin (BTC) from the CoinGecko API at 5-second intervals for 1 hour.\n",
    "It accumulates the fetched data into a list and formats it into a dictionary with timestamp, id, open, high, low, and close attributes.\n",
    "Finally, it creates a pandas DataFrame from the accumulated data and prints it, presenting the OHLC data in a tabular format for analysis."
   ]
  },
  {
   "cell_type": "code",
   "execution_count": null,
   "id": "5d42bcec",
   "metadata": {},
   "outputs": [],
   "source": [
    "import requests\n",
    "import pandas as pd\n",
    "import time\n",
    "\n",
    "def fetch_ohlc_data(coin_id, vs_currency='usd', days=1):\n",
    "    url = f\"https://api.coingecko.com/api/v3/coins/{coin_id}/ohlc?vs_currency={vs_currency}&days={days}\"\n",
    "    try:\n",
    "        response = requests.get(url)\n",
    "        response.raise_for_status()\n",
    "        data = response.json()\n",
    "        return data\n",
    "    except requests.exceptions.HTTPError as err:\n",
    "        print(f\"HTTP error occurred: {err}\")\n",
    "        return None\n",
    "\n",
    "if __name__ == \"__main__\":\n",
    "    # Initialize an empty list to accumulate OHLC data\n",
    "    ohlc_accumulated_data = []\n",
    "\n",
    "    # Fetch OHLC data for Bitcoin (BTC) for the last 1 day every 5 seconds, accumulate in the list\n",
    "    for _ in range(12):  # Fetch for 1 hour (12 iterations, 5 seconds each)\n",
    "        ohlc_data = fetch_ohlc_data('bitcoin')\n",
    "        if ohlc_data:\n",
    "            # Extracting required columns and appending to the accumulated data\n",
    "            formatted_data = [{'timestamp': item[0], 'id': item[0], 'open': item[1], 'high': item[2], 'low': item[3], 'close': item[4]} for item in ohlc_data]\n",
    "            ohlc_accumulated_data.extend(formatted_data)\n",
    "            print(\"Batch data fetched and accumulated.\")\n",
    "        else:\n",
    "            print(\"Failed to fetch batch OHLC data.\")\n",
    "\n",
    "        # Wait for 5 seconds before making the next request\n",
    "        time.sleep(5)\n",
    "\n",
    "    # Create a DataFrame from the accumulated data\n",
    "    df = pd.DataFrame(ohlc_accumulated_data)\n",
    "\n",
    "    # Display the DataFrame\n",
    "    print(\"DataFrame Table:\")\n",
    "    print(df)\n"
   ]
  },
  {
   "cell_type": "code",
   "execution_count": null,
   "id": "9045dbbd",
   "metadata": {},
   "outputs": [],
   "source": [
    "pip install confluent-kafka"
   ]
  },
  {
   "cell_type": "code",
   "execution_count": null,
   "id": "bc6bdd3f",
   "metadata": {},
   "outputs": [],
   "source": [
    "pip install kafka-python\n"
   ]
  },
  {
   "cell_type": "markdown",
   "id": "c374bc58",
   "metadata": {},
   "source": [
    "from kafka import KafkaProducer, KafkaConsumer: Imports the KafkaProducer and KafkaConsumer classes from the kafka library, allowing interaction with Apache Kafka message broker.\n",
    "formatted_data_bytes = json.dumps(formatted_data).encode('utf-8'): Encodes the formatted_data dictionary into bytes after converting it to a JSON string.\n",
    "producer = KafkaProducer(bootstrap_servers='localhost:19092'): Creates a KafkaProducer instance connected to the specified bootstrap servers, ready to send messages to the Kafka topic named 'topic'. Similarly, KafkaConsumer is initialized to consume messages from the same topic."
   ]
  },
  {
   "cell_type": "code",
   "execution_count": null,
   "id": "faa16c85",
   "metadata": {},
   "outputs": [],
   "source": [
    "from kafka import KafkaProducer, KafkaConsumer\n",
    "import json \n",
    "\n",
    "formatted_data_bytes = json.dumps(formatted_data).encode('utf-8')\n",
    "\n",
    "bootstrap_servers = 'localhost:19092'\n",
    "\n",
    "producer = KafkaProducer(bootstrap_servers = bootstrap_servers) \n",
    "\n",
    "producer.send('topic', formatted_data_bytes)\n",
    "\n",
    "consumer = KafkaConsumer(\n",
    "  'topic',\n",
    "  bootstrap_servers = bootstrap_servers  \n",
    ")\n"
   ]
  },
  {
   "cell_type": "markdown",
   "id": "560ac2a3",
   "metadata": {},
   "source": [
    "import psycopg2: Imports the psycopg2 library, which is used for interacting with PostgreSQL databases in Python.\n",
    "conn = psycopg2.connect(...): Establishes a connection (conn) to a PostgreSQL database using specified connection parameters like host, port, database name, username, and password.\n",
    "This code connects to a PostgreSQL database named \"data_challenge\" running on localhost at port 5432 with the username \"postgres\" and password \"postgres"
   ]
  },
  {
   "cell_type": "code",
   "execution_count": null,
   "id": "9e7a016f",
   "metadata": {},
   "outputs": [],
   "source": [
    "\n",
    "pip install psycopg2\n",
    "import psycopg2\n",
    "\n",
    "conn = psycopg2.connect(\n",
    "   host=\"localhost\",\n",
    "   port=\"5432\",\n",
    "   database=\"data_challenge\", \n",
    "   user=\"postgres\",\n",
    "   password=\"postgres\"\n",
    ")"
   ]
  },
  {
   "cell_type": "markdown",
   "id": "a871f95e",
   "metadata": {},
   "source": [
    "cur = conn.cursor(): Creates a cursor object cur for executing SQL commands on a database connection conn.\n",
    "for message in consumer:: Iterates over messages received from a Kafka topic.\n",
    "cur.execute(sql, (timestamp,id,open, high,low,close)) inserts extracted data into a database table using SQL command sql, and conn.commit() commits the transaction to the database.\n"
   ]
  },
  {
   "cell_type": "code",
   "execution_count": null,
   "id": "8154b2e9",
   "metadata": {},
   "outputs": [],
   "source": [
    "cur = conn.cursor()\n",
    "\n",
    "for message in consumer:\n",
    "  # extract data\n",
    "  timestamp = message.value['timestamp']\n",
    "  id = message.value['id']\n",
    "  open = message.value['open']\n",
    "  high = message.value['high']\n",
    "  low = message.value['low']\n",
    "  close = message.value['close']\n",
    "\n",
    "  sql = \"\"\"INSERT INTO ticks2 (timestamp,id,open, high,low,close) \n",
    "           VALUES (timestamp,id,open, high,low,close)\"\"\"\n",
    "\n",
    "  cur.execute(sql, (timestamp,id,open, high,low,close))\n",
    "\n",
    "conn.commit()"
   ]
  },
  {
   "cell_type": "code",
   "execution_count": null,
   "id": "563be476",
   "metadata": {},
   "outputs": [],
   "source": []
  }
 ],
 "metadata": {
  "kernelspec": {
   "display_name": "Python 3 (ipykernel)",
   "language": "python",
   "name": "python3"
  },
  "language_info": {
   "codemirror_mode": {
    "name": "ipython",
    "version": 3
   },
   "file_extension": ".py",
   "mimetype": "text/x-python",
   "name": "python",
   "nbconvert_exporter": "python",
   "pygments_lexer": "ipython3",
   "version": "3.10.9"
  }
 },
 "nbformat": 4,
 "nbformat_minor": 5
}
